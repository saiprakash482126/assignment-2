{
  "nbformat": 4,
  "nbformat_minor": 0,
  "metadata": {
    "colab": {
      "provenance": []
    },
    "kernelspec": {
      "name": "python3",
      "display_name": "Python 3"
    },
    "language_info": {
      "name": "python"
    }
  },
  "cells": [
    {
      "cell_type": "markdown",
      "source": [
        "1.Explain Class and Object with respect to Object-Oriented Programming. Give a suitable example.\n",
        "\n",
        "sol:\n",
        "\n",
        " Define a simple class named 'Person\n",
        "\n",
        "class Person:\n",
        "\n",
        "     Class attribute\n",
        "    species = \"Homo sapiens\"\n",
        "\n",
        "     Constructor method to initialize instance attributes\n",
        "\n",
        "    def __init__(self, name, age):\n",
        "        # Instance attributes\n",
        "        self.name = name\n",
        "        self.age = age\n",
        "\n",
        "     Instance method\n",
        "\n",
        "    def greet(self):\n",
        "        return f\"Hello, my name is {self.name} and I am {self.age} years old.\"\n",
        "\n",
        " Creating objects (instances) of the class 'Person'\n",
        "\n",
        "person1 = Person(\"Alice\", 25)\n",
        "person2 = Person(\"Bob\", 30)\n",
        "\n",
        "\n",
        "Accessing attributes and calling methods of objects\n",
        "\n",
        "print(person1.name)  # Output: Alice\n",
        "print(person2.age)   # Output: 30\n",
        "\n",
        " Calling the 'greet' method of objects\n",
        "\n",
        "print(person1.greet())  # Output: Hello, my name is Alice and I am 25 years old.\n",
        "print(person2.greet())  # Output: Hello, my name is Bob and I am 30 years old.\n",
        "\n",
        "output:\n",
        "\n",
        "Alice\n",
        "30\n",
        "Hello, my name is Alice and I am 25 years old.\n",
        "Hello, my name is Bob and I am 30 years old.\n"
      ],
      "metadata": {
        "id": "wvgl5d3e1Y08"
      }
    },
    {
      "cell_type": "markdown",
      "source": [
        "2.Name the four pillars of OOPs.\n",
        "\n",
        "sol:\n",
        "\n",
        "Encapsulation: This refers to the bundling of data (attributes) and methods (functions) that operate on the data into a single unit, known as a class. Encapsulation helps in hiding the internal details of an object and exposing only what is necessary.\n",
        "\n",
        "Abstraction: Abstraction involves simplifying complex systems by modeling classes based on the essential properties and behaviors they possess, while ignoring the non-essential details. It allows developers to focus on the relevant aspects of an object and ignore the irrelevant complexities.\n",
        "\n",
        "Inheritance: Inheritance is a mechanism that allows a new class (subclass or derived class) to inherit attributes and methods from an existing class (base class or parent class). It promotes code reuse and establishes a relationship between the classes, facilitating the creation of a hierarchy of classes.\n",
        "\n",
        "Polymorphism: Polymorphism allows objects of different classes to be treated as objects of a common base class. It enables a single interface to represent different types of objects, and it can take different forms, such as method overloading (multiple methods with the same name but different parameters) and method overriding (providing a specific implementation of a method in a subclass)."
      ],
      "metadata": {
        "id": "t_lXnJa-11Lj"
      }
    },
    {
      "cell_type": "markdown",
      "source": [],
      "metadata": {
        "id": "P_QXTl8N1_ox"
      }
    },
    {
      "cell_type": "markdown",
      "source": [
        "3.Explain why the __init__() function is used. Give a suitable example.\n",
        "\n",
        "sol:\n",
        "\n",
        "The __init__() function in Python is a special method, also known as the constructor, that is automatically called when an object is created from a class. It is used to initialize the attributes of the object and perform any setup or configuration necessary for the object to function properly.\n",
        "\n",
        "Here's why the __init__() function is used:\n",
        "\n",
        "Attribute Initialization: The primary purpose of __init__() is to initialize the attributes of the object. It allows you to set initial values for the attributes when an object is created.\n",
        "\n",
        "Instance-specific Configuration: The __init__() method allows you to perform instance-specific configuration or setup. This can include tasks such as opening a file, connecting to a database, or any other actions needed to prepare the object for use.\n",
        "\n",
        "Parameter Passing: The __init__() method can take parameters that are provided when creating an object. These parameters allow you to customize the initialization process and provide specific values for the object's attributes."
      ],
      "metadata": {
        "id": "YwZEKz6R1_wS"
      }
    },
    {
      "cell_type": "markdown",
      "source": [
        "4.Why self is used in OOPs?\n",
        "\n",
        "sol:\n",
        "\n",
        "In object-oriented programming (OOP), self is a convention used to represent the instance of the class within the class methods. It is the first parameter passed to any method defined in a class and refers to the instance of the class itself. The use of self is a way for the class to reference its own instance variables and methods.\n",
        "\n",
        "Here are the key reasons why self is used in OOP:\n",
        "\n",
        "Instance-specific Access: In a class, self allows methods to access and manipulate the instance variables (attributes) of the object. Each instance of a class may have different values for its attributes, and self ensures that the correct instance's attributes are accessed.\n",
        "\n",
        "Method Invocation: When a method is called on an object, self is automatically passed as the first parameter. This allows the method to operate on the data associated with the specific instance. For example, self is used to call other methods within the same class.\n",
        "\n",
        "Instance Creation: During the creation of an instance of a class, self is implicitly passed to the __init__ method, allowing the initialization of instance-specific attributes."
      ],
      "metadata": {
        "id": "qtSDru8z2QYj"
      }
    },
    {
      "cell_type": "markdown",
      "source": [
        "5.What is inheritance? Give an example for each type of inheritance.\n",
        "\n",
        "sol:\n",
        "\n",
        "Inheritance is a fundamental concept in object-oriented programming (OOP) that allows a new class (subclass or derived class) to inherit attributes and methods from an existing class (base class or parent class). This promotes code reuse and establishes a relationship between the classes, allowing the subclass to extend or override the functionality of the base class.*italicized text\n",
        "\n",
        "\n",
        "example:\n",
        "\n",
        "class Animal:\n",
        "    def speak(self):\n",
        "        return \"Animal speaks\"\n",
        "\n",
        "class Dog(Animal):\n",
        "    def bark(self):\n",
        "        return \"Dog barks\"\n",
        "\n",
        " Creating an object of the 'Dog' class\n",
        "\n",
        "my_dog = Dog()\n",
        "\n",
        "print(my_dog.speak())  # Output: Animal speaks\n",
        "print(my_dog.bark())   # Output: Dog barks\n",
        "\n",
        "\n",
        "output:\n",
        "\n",
        "Animal speaks\n",
        "Dog barks\n"
      ],
      "metadata": {
        "id": "46pDY7MI2avp"
      }
    }
  ]
}